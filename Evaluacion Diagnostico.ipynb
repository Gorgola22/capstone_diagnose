{
 "cells": [
  {
   "cell_type": "code",
   "execution_count": null,
   "metadata": {},
   "outputs": [],
   "source": [
    "\"\"\"\n",
    "Este es el programa para obtener información sobre los twitters de Farmer Protest\n",
    "Las funciones serán:\n",
    "- Top 10 tweets más retweeted\n",
    "- Los top 10 usuarios en función a la cantidad de tweets que emitieron\n",
    "- Top 10 días donde hay más tweets\n",
    "- Top 10 hashtags más usados\n",
    "\"\"\""
   ]
  },
  {
   "cell_type": "code",
   "execution_count": 2,
   "metadata": {},
   "outputs": [],
   "source": [
    "import re\n",
    "\n",
    "\n",
    "class MainClass:\n",
    "    \n",
    "    def __init__(self):\n",
    "        pass\n",
    "    \n",
    "    def retweeted(self):\n",
    "        pass\n",
    "    \n",
    "    def users(self):\n",
    "        pass\n",
    "    \n",
    "    def days(self):\n",
    "        pass\n",
    "    \n",
    "    def hashtags(self):\n",
    "        pass\n",
    "    "
   ]
  },
  {
   "cell_type": "code",
   "execution_count": null,
   "metadata": {},
   "outputs": [],
   "source": []
  }
 ],
 "metadata": {
  "kernelspec": {
   "display_name": "Python 3",
   "language": "python",
   "name": "python3"
  },
  "language_info": {
   "codemirror_mode": {
    "name": "ipython",
    "version": 3
   },
   "file_extension": ".py",
   "mimetype": "text/x-python",
   "name": "python",
   "nbconvert_exporter": "python",
   "pygments_lexer": "ipython3",
   "version": "3.6.3"
  }
 },
 "nbformat": 4,
 "nbformat_minor": 2
}
